{
 "cells": [
  {
   "cell_type": "markdown",
   "id": "35247496",
   "metadata": {},
   "source": [
    "Have the function SimplePassword(str) take the str parameter being passed and determine if it passes as a valid password that follows the list of constraints:\n",
    "\n",
    "1. It must have a capital letter.\n",
    "2. It must contain at least one number.\n",
    "3. It must contain a punctuation mark or mathematical symbol.\n",
    "4. It cannot have the word \"password\" in the string.\n",
    "5. It must be longer than 7 characters and shorter than 31 characters.\n",
    "\n",
    "If all the above constraints are met within the string, the your program should return the string true, otherwise your program should return the string false. For example: if str is \"apple!M7\" then your program should return \"true\"."
   ]
  },
  {
   "cell_type": "code",
   "execution_count": 1,
   "id": "e2559fd7",
   "metadata": {},
   "outputs": [
    {
     "name": "stdout",
     "output_type": "stream",
     "text": [
      "true\n",
      "false\n",
      "false\n",
      "true\n",
      "false\n"
     ]
    }
   ],
   "source": [
    "import string\n",
    "\n",
    "def SimplePassword(str):\n",
    "    # Check for the length constraint\n",
    "    if len(str) <= 7 or len(str) >= 31:\n",
    "        return \"false\"\n",
    "    \n",
    "    # Check for the presence of at least one uppercase letter\n",
    "    if not any(char.isupper() for char in str):\n",
    "        return \"false\"\n",
    "    \n",
    "    # Check for the presence of at least one number\n",
    "    if not any(char.isdigit() for char in str):\n",
    "        return \"false\"\n",
    "    \n",
    "    # Check for the presence of at least one punctuation or mathematical symbol\n",
    "    if not any(not char.isalnum() for char in str):  # alnum = alphanumeric\n",
    "        return \"false\"\n",
    "    \n",
    "    # Check for the presence of the word \"password\"\n",
    "    if \"password\" in str.lower():\n",
    "        return \"false\"\n",
    "    \n",
    "    # If all conditions are satisfied, return true\n",
    "    return \"true\"\n",
    "\n",
    "# Example usage\n",
    "print(SimplePassword(\"apple!M7\"))  \n",
    "print(SimplePassword(\"password123!\"))  \n",
    "print(SimplePassword(\"abcD1@\"))  \n",
    "print(SimplePassword(\"ValidPass1!\"))  \n",
    "print(SimplePassword(\"short1!\"))  "
   ]
  },
  {
   "cell_type": "code",
   "execution_count": null,
   "id": "6f2edd39",
   "metadata": {},
   "outputs": [],
   "source": []
  }
 ],
 "metadata": {
  "kernelspec": {
   "display_name": "Python 3 (ipykernel)",
   "language": "python",
   "name": "python3"
  },
  "language_info": {
   "codemirror_mode": {
    "name": "ipython",
    "version": 3
   },
   "file_extension": ".py",
   "mimetype": "text/x-python",
   "name": "python",
   "nbconvert_exporter": "python",
   "pygments_lexer": "ipython3",
   "version": "3.10.9"
  }
 },
 "nbformat": 4,
 "nbformat_minor": 5
}
